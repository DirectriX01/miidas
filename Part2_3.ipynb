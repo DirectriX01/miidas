{
  "nbformat": 4,
  "nbformat_minor": 0,
  "metadata": {
    "colab": {
      "name": "Part2-3",
      "provenance": [],
      "collapsed_sections": [],
      "toc_visible": true,
      "include_colab_link": true
    },
    "kernelspec": {
      "name": "python3",
      "display_name": "Python 3"
    },
    "language_info": {
      "name": "python"
    },
    "accelerator": "GPU"
  },
  "cells": [
    {
      "cell_type": "markdown",
      "metadata": {
        "id": "view-in-github",
        "colab_type": "text"
      },
      "source": [
        "<a href=\"https://colab.research.google.com/github/DirectriX01/miidas/blob/master/Part2_3.ipynb\" target=\"_parent\"><img src=\"https://colab.research.google.com/assets/colab-badge.svg\" alt=\"Open In Colab\"/></a>"
      ]
    },
    {
      "cell_type": "markdown",
      "metadata": {
        "id": "dDdrYsPaYq2P"
      },
      "source": [
        "#Task-2(Image Classification)\n",
        "**Part 2** : Notebook1: Train on the given dataset(0..9) Labels using a CNN\n",
        "\n",
        "**Note to the Examiner: I have the model-name legend in the end to avoid confusion over names*"
      ]
    },
    {
      "cell_type": "markdown",
      "metadata": {
        "id": "bjLmxGDZY3iM"
      },
      "source": [
        "The dataset has been uploaded on google drive on the path `/content/gdrive/MyDrive/train`. We use the `drive.mount()` method to load the dataset into our environment.\n"
      ]
    },
    {
      "cell_type": "code",
      "metadata": {
        "colab": {
          "base_uri": "https://localhost:8080/"
        },
        "id": "Op3LSQ0AYnU7",
        "outputId": "cb4d4dd9-6642-42b3-f347-4be09b745b8e"
      },
      "source": [
        "from google.colab import drive\n",
        "drive.mount('/content/gdrive')"
      ],
      "execution_count": null,
      "outputs": [
        {
          "output_type": "stream",
          "text": [
            "Mounted at /content/gdrive\n"
          ],
          "name": "stdout"
        }
      ]
    },
    {
      "cell_type": "code",
      "metadata": {
        "id": "sD3B4pmEaIe3"
      },
      "source": [
        "import os \n",
        "from pprint import pprint\n",
        "file_list = sorted(os.listdir('/content/gdrive/MyDrive/train2'))"
      ],
      "execution_count": null,
      "outputs": []
    },
    {
      "cell_type": "markdown",
      "metadata": {
        "id": "ZacKxxEjZB7N"
      },
      "source": [
        "###Installing GPU Enabled framework\n",
        "The default tensorflow framework is uninstalled in favor of tensorflow-gpu which is compatible for training in Colab's GPU environment. The inbuilt !pip command is used for managing packages. The &> /dev/null option was used to ignore 'requirement satifisied' from being printed while installing tensorflow-gpu\n"
      ]
    },
    {
      "cell_type": "code",
      "metadata": {
        "id": "VV2vEcnA3Np0",
        "colab": {
          "base_uri": "https://localhost:8080/"
        },
        "outputId": "47293391-1394-4b4a-9f16-13a8896f80f3"
      },
      "source": [
        "!pip uninstall tensorflow  -y \n",
        "!pip install tensorflow-gpu &> /dev/null # stable\n",
        "\n",
        "import tensorflow as tf\n",
        "print(tf.__version__)\n",
        "\n",
        "from tensorflow.python.client import device_lib\n",
        "device_lib.list_local_devices()"
      ],
      "execution_count": null,
      "outputs": [
        {
          "output_type": "stream",
          "text": [
            "\u001b[33mWARNING: Skipping tensorflow as it is not installed.\u001b[0m\n",
            "2.4.1\n"
          ],
          "name": "stdout"
        },
        {
          "output_type": "execute_result",
          "data": {
            "text/plain": [
              "[name: \"/device:CPU:0\"\n",
              " device_type: \"CPU\"\n",
              " memory_limit: 268435456\n",
              " locality {\n",
              " }\n",
              " incarnation: 5939962668637211689, name: \"/device:GPU:0\"\n",
              " device_type: \"GPU\"\n",
              " memory_limit: 14646682624\n",
              " locality {\n",
              "   bus_id: 1\n",
              "   links {\n",
              "   }\n",
              " }\n",
              " incarnation: 5679109626440330320\n",
              " physical_device_desc: \"device: 0, name: Tesla T4, pci bus id: 0000:00:04.0, compute capability: 7.5\"]"
            ]
          },
          "metadata": {
            "tags": []
          },
          "execution_count": 76
        }
      ]
    },
    {
      "cell_type": "markdown",
      "metadata": {
        "id": "7Q032NNJZL4k"
      },
      "source": [
        "\n",
        "###1.2 Packages\n",
        "\n",
        "* numpy is the main package for scientific computing with Python.\n",
        "\n",
        "* matplotlib is a library to plot graphs in Python.\n",
        "\n",
        "* Keras API will be used for training the model\n",
        "\n",
        "* cv2 - OpenCv is an library built for various computer vision functions"
      ]
    },
    {
      "cell_type": "code",
      "metadata": {
        "id": "UF2T6_gVjO-Q"
      },
      "source": [
        "import numpy as np\n",
        "import cv2\n",
        "from tensorflow.keras import datasets, layers, models, losses\n",
        "from keras import layers\n",
        "from keras.layers import Input, Dense, Activation,BatchNormalization, Flatten, Conv2D, MaxPooling2D, Dropout, ZeroPadding2D\n",
        "from keras.models import Model\n",
        "from keras.preprocessing.image import ImageDataGenerator\n",
        "import matplotlib.pyplot as plt\n",
        "from matplotlib.pyplot import imshow\n",
        "import matplotlib.pyplot as plt\n",
        "from matplotlib.pyplot import imshow"
      ],
      "execution_count": null,
      "outputs": []
    },
    {
      "cell_type": "markdown",
      "metadata": {
        "id": "6b2AB0OeZ1Bv"
      },
      "source": [
        "###Preprocessing: "
      ]
    },
    {
      "cell_type": "code",
      "metadata": {
        "id": "jTuLgdxOx_re"
      },
      "source": [
        "path = '/content/gdrive/MyDrive/train2'\n",
        "dirs = os.listdir(path)\n",
        "# print(list(dirs))\n",
        "path2 ='/content/gdrive/MyDrive/Train2_Crop'\n",
        "if not(os.path.exists(path2)):\n",
        "  os.mkdir(path2)\n",
        "  for dir_name in dirs:\n",
        "    img_list = os.listdir(os.path.join(path,dir_name))\n",
        "    os.mkdir(os.path.join(path2,dir_name))\n",
        "    # print(img_list)\n",
        "    for img in img_list:\n",
        "      # print(img)\n",
        "      image = cv2.imread(os.path.join(path,dir_name,img))\n",
        "      original = image.copy()\n",
        "      gray = cv2.cvtColor(image, cv2.COLOR_BGR2GRAY)\n",
        "      thresh = cv2.threshold(gray, 0, 255, cv2.THRESH_BINARY_INV + cv2.THRESH_OTSU)[1]\n",
        "\n",
        "      cnts = cv2.findContours(thresh, cv2.RETR_EXTERNAL, cv2.CHAIN_APPROX_SIMPLE)\n",
        "      cnts = cnts[0] if len(cnts) == 2 else cnts[1]\n",
        "      x,y,w,h = cv2.boundingRect(cnts[0])\n",
        "      cv2.rectangle(image, (x, y), (x + w, y + h), (36,255,12), 2)\n",
        "      ROI = original[y:y+h, x:x+w]\n",
        "      cv2.imwrite(os.path.join(path2,dir_name,img), ROI)\n",
        "      # cv2_imshow(image)"
      ],
      "execution_count": null,
      "outputs": []
    },
    {
      "cell_type": "code",
      "metadata": {
        "colab": {
          "base_uri": "https://localhost:8080/"
        },
        "id": "5ptEW8d71tkR",
        "outputId": "ec753f68-3ed6-44f4-ad38-871593cfc193"
      },
      "source": [
        "train_datagen = ImageDataGenerator(rescale=1. / 255)\n",
        "train = train_datagen.flow_from_directory(path2, target_size=(28,28), class_mode='categorical')"
      ],
      "execution_count": null,
      "outputs": [
        {
          "output_type": "stream",
          "text": [
            "Found 400 images belonging to 10 classes.\n"
          ],
          "name": "stdout"
        }
      ]
    },
    {
      "cell_type": "code",
      "metadata": {
        "colab": {
          "base_uri": "https://localhost:8080/"
        },
        "id": "olRmOKWV2GPO",
        "outputId": "4a25a5d4-a9b4-430e-9b43-e3028a926690"
      },
      "source": [
        "print(\"Batch Size for Input Image : \",train[0][0].shape)\n",
        "print(\"Image Size of first image : \",train[0][0][0].shape)"
      ],
      "execution_count": null,
      "outputs": [
        {
          "output_type": "stream",
          "text": [
            "Batch Size for Input Image :  (32, 28, 28, 3)\n",
            "Image Size of first image :  (28, 28, 3)\n"
          ],
          "name": "stdout"
        }
      ]
    },
    {
      "cell_type": "code",
      "metadata": {
        "colab": {
          "base_uri": "https://localhost:8080/",
          "height": 625
        },
        "id": "QbbbKCAE4h8o",
        "outputId": "9ee25487-6519-4420-edae-f204801a2cdb"
      },
      "source": [
        "fig , axs = plt.subplots(2,2 ,figsize = (10,10))\n",
        "\n",
        "axs[0][0].imshow(train[0][0][12])\n",
        "axs[0][0].set_title(np.where(train[0][1][12]==1))\n",
        "\n",
        "axs[0][1].imshow(train[0][0][26])\n",
        "axs[0][1].set_title(np.where(train[0][1][26]==1))\n",
        "\n",
        "\n",
        "axs[1][0].imshow(train[0][0][10])\n",
        "axs[1][0].set_title(np.where(train[0][1][18]==1))\n",
        "\n",
        "axs[1][1].imshow(train[0][0][13])\n",
        "axs[1][1].set_title(np.where(train[0][1][13]==1))\n",
        "\n"
      ],
      "execution_count": null,
      "outputs": [
        {
          "output_type": "execute_result",
          "data": {
            "text/plain": [
              "Text(0.5, 1.0, '(array([5]),)')"
            ]
          },
          "metadata": {
            "tags": []
          },
          "execution_count": 33
        },
        {
          "output_type": "display_data",
          "data": {
            "image/png": "[encoded data removed]",
            "text/plain": [
              "<Figure size 720x720 with 4 Axes>"
            ]
          },
          "metadata": {
            "tags": [],
            "needs_background": "light"
          }
        }
      ]
    },
    {
      "cell_type": "markdown",
      "metadata": {
        "id": "vLG9KfSeaF3d"
      },
      "source": [
        "###**Architecture of the model:**\n",
        "\n",
        "I have made significant changes to the architecture from what it was in part 1:\n",
        "\n",
        "Few Changes in the architecture: \n",
        "  *   Halved the filters of Convolutions and Max-Pooling by 2, 4 in some cases\n",
        "      *   Removed the stride from the first filter\n",
        "\n",
        "  * Dense layers have 64 logits, contrary to 4096 in the original one.\n",
        "\n",
        "  * Changed the output logits to 10\n",
        "\n",
        "  * Removed one whole convolution block, as we do not have complex features thus we don't require complex learning functions \n",
        "\n",
        "  * The input size is changed to (28,28,3) according to the MNIST images to avoid resizing(to 227,227,3) and interpolation of images leading to overfitting. Thus the parameters have been reduced to 145k from 58 million. \n",
        "\n",
        "  * Added two dropout layers"
      ]
    },
    {
      "cell_type": "code",
      "metadata": {
        "id": "nNAA7u_P2oNq"
      },
      "source": [
        "def ModifiedNet(input_shape):\n",
        "    \n",
        "    X_input = Input(input_shape)\n",
        "    \n",
        "    X = Conv2D(48,(3,3),padding='valid',name=\"conv0\")(X_input)\n",
        "    X = BatchNormalization(axis = 3 , name = \"bn0\")(X)\n",
        "    X = Activation('relu')(X)\n",
        "    \n",
        "    X = MaxPooling2D((3,3),strides = 2,name = 'max0')(X)\n",
        "    \n",
        "    X = Conv2D(64,(3,3),padding = 'valid' , name = 'conv1')(X)\n",
        "    X = BatchNormalization(axis = 3 ,name='bn1')(X)\n",
        "    X = Activation('relu')(X)\n",
        "    \n",
        "    X = MaxPooling2D((3,3),strides = 2,name = 'max1')(X)\n",
        "    \n",
        "    X = Conv2D(96, (3,3) , padding = 'same' , name='conv2')(X)\n",
        "    X = BatchNormalization(   name = 'bn2')(X)\n",
        "    X = Activation('relu')(X)\n",
        "    \n",
        "    X = Conv2D(64, (3,3) , padding = 'same' , name='conv4')(X)\n",
        "    X = BatchNormalization(   name = 'bn4')(X)\n",
        "    X = Activation('relu')(X)\n",
        "    \n",
        "    X = MaxPooling2D((3,3),strides = 2,name = 'max2')(X)\n",
        "    \n",
        "    X = Flatten()(X)\n",
        "    \n",
        "    X = Dense(32, activation = 'relu', name = \"fc0\")(X)\n",
        "    X = Dropout(0.4)(X)\n",
        "    \n",
        "    X = Dense(32, activation = 'relu', name = 'fc1')(X)\n",
        "    X = Dropout(0.4)(X) \n",
        "    \n",
        "    X = Dense(10,activation='softmax',name = 'fc2')(X)\n",
        "    \n",
        "    model = Model(inputs = X_input, outputs = X, name='ModifiedNet')\n",
        "\n",
        "    return model"
      ],
      "execution_count": null,
      "outputs": []
    },
    {
      "cell_type": "markdown",
      "metadata": {
        "id": "inW0CNGhdk9d"
      },
      "source": [
        "##**Training the model**\n",
        "\n",
        "---"
      ]
    },
    {
      "cell_type": "code",
      "metadata": {
        "id": "xGSYyeo-2wzX"
      },
      "source": [
        "modelA = ModifiedNet(train[0][0].shape[1:])"
      ],
      "execution_count": null,
      "outputs": []
    },
    {
      "cell_type": "code",
      "metadata": {
        "colab": {
          "base_uri": "https://localhost:8080/"
        },
        "id": "ExUIX_xD3PQh",
        "outputId": "e94a859b-389b-433f-ce79-ce1a49a7c350"
      },
      "source": [
        "modelA.summary()"
      ],
      "execution_count": null,
      "outputs": [
        {
          "output_type": "stream",
          "text": [
            "Model: \"ModifiedNet\"\n",
            "_________________________________________________________________\n",
            "Layer (type)                 Output Shape              Param #   \n",
            "=================================================================\n",
            "input_5 (InputLayer)         [(None, 28, 28, 3)]       0         \n",
            "_________________________________________________________________\n",
            "conv0 (Conv2D)               (None, 26, 26, 48)        1344      \n",
            "_________________________________________________________________\n",
            "bn0 (BatchNormalization)     (None, 26, 26, 48)        192       \n",
            "_________________________________________________________________\n",
            "activation_16 (Activation)   (None, 26, 26, 48)        0         \n",
            "_________________________________________________________________\n",
            "max0 (MaxPooling2D)          (None, 12, 12, 48)        0         \n",
            "_________________________________________________________________\n",
            "conv1 (Conv2D)               (None, 10, 10, 64)        27712     \n",
            "_________________________________________________________________\n",
            "bn1 (BatchNormalization)     (None, 10, 10, 64)        256       \n",
            "_________________________________________________________________\n",
            "activation_17 (Activation)   (None, 10, 10, 64)        0         \n",
            "_________________________________________________________________\n",
            "max1 (MaxPooling2D)          (None, 4, 4, 64)          0         \n",
            "_________________________________________________________________\n",
            "conv2 (Conv2D)               (None, 4, 4, 96)          55392     \n",
            "_________________________________________________________________\n",
            "bn2 (BatchNormalization)     (None, 4, 4, 96)          384       \n",
            "_________________________________________________________________\n",
            "activation_18 (Activation)   (None, 4, 4, 96)          0         \n",
            "_________________________________________________________________\n",
            "conv4 (Conv2D)               (None, 4, 4, 64)          55360     \n",
            "_________________________________________________________________\n",
            "bn4 (BatchNormalization)     (None, 4, 4, 64)          256       \n",
            "_________________________________________________________________\n",
            "activation_19 (Activation)   (None, 4, 4, 64)          0         \n",
            "_________________________________________________________________\n",
            "max2 (MaxPooling2D)          (None, 1, 1, 64)          0         \n",
            "_________________________________________________________________\n",
            "flatten_4 (Flatten)          (None, 64)                0         \n",
            "_________________________________________________________________\n",
            "fc0 (Dense)                  (None, 32)                2080      \n",
            "_________________________________________________________________\n",
            "dropout_3 (Dropout)          (None, 32)                0         \n",
            "_________________________________________________________________\n",
            "fc1 (Dense)                  (None, 32)                1056      \n",
            "_________________________________________________________________\n",
            "dropout_4 (Dropout)          (None, 32)                0         \n",
            "_________________________________________________________________\n",
            "fc2 (Dense)                  (None, 10)                330       \n",
            "=================================================================\n",
            "Total params: 144,362\n",
            "Trainable params: 143,818\n",
            "Non-trainable params: 544\n",
            "_________________________________________________________________\n"
          ],
          "name": "stdout"
        }
      ]
    },
    {
      "cell_type": "markdown",
      "metadata": {
        "id": "c6E7DGP4d1ET"
      },
      "source": [
        "###**Compiling the model**\n",
        "  * Optimizer: Adam Optimizer\n",
        "  * Loss: Categorical crossentropy"
      ]
    },
    {
      "cell_type": "code",
      "metadata": {
        "id": "RBrP3A0L3Rde"
      },
      "source": [
        "modelA.compile(optimizer = 'adam' , loss = 'categorical_crossentropy' , metrics=['accuracy'])"
      ],
      "execution_count": null,
      "outputs": []
    },
    {
      "cell_type": "markdown",
      "metadata": {
        "id": "3cJpvgeTeahc"
      },
      "source": [
        "###**Training the model**\n",
        "  * Since less availiblity of data, and high number of parameters, the model is expected to overfit on the dataset. However adding dropout has helped us with the epoch number"
      ]
    },
    {
      "cell_type": "code",
      "metadata": {
        "colab": {
          "base_uri": "https://localhost:8080/"
        },
        "id": "Ykho_iBy3Ybb",
        "outputId": "fa4e7288-685e-4183-f2ef-54b89f0ba119"
      },
      "source": [
        "history_scratch = modelA.fit(train,epochs=50)"
      ],
      "execution_count": null,
      "outputs": [
        {
          "output_type": "stream",
          "text": [
            "Epoch 1/50\n",
            "13/13 [==============================] - 2s 82ms/step - loss: 2.6597 - accuracy: 0.1312\n",
            "Epoch 2/50\n",
            "13/13 [==============================] - 1s 85ms/step - loss: 2.0751 - accuracy: 0.2299\n",
            "Epoch 3/50\n",
            "13/13 [==============================] - 1s 84ms/step - loss: 1.8614 - accuracy: 0.3257\n",
            "Epoch 4/50\n",
            "13/13 [==============================] - 1s 83ms/step - loss: 1.7164 - accuracy: 0.4087\n",
            "Epoch 5/50\n",
            "13/13 [==============================] - 1s 83ms/step - loss: 1.5011 - accuracy: 0.4744\n",
            "Epoch 6/50\n",
            "13/13 [==============================] - 1s 84ms/step - loss: 1.4425 - accuracy: 0.4606\n",
            "Epoch 7/50\n",
            "13/13 [==============================] - 1s 83ms/step - loss: 1.3147 - accuracy: 0.5108\n",
            "Epoch 8/50\n",
            "13/13 [==============================] - 1s 85ms/step - loss: 1.2126 - accuracy: 0.5540\n",
            "Epoch 9/50\n",
            "13/13 [==============================] - 1s 86ms/step - loss: 1.0927 - accuracy: 0.5824\n",
            "Epoch 10/50\n",
            "13/13 [==============================] - 1s 85ms/step - loss: 1.0118 - accuracy: 0.6371\n",
            "Epoch 11/50\n",
            "13/13 [==============================] - 1s 87ms/step - loss: 1.0112 - accuracy: 0.6248\n",
            "Epoch 12/50\n",
            "13/13 [==============================] - 1s 87ms/step - loss: 0.9628 - accuracy: 0.6430\n",
            "Epoch 13/50\n",
            "13/13 [==============================] - 1s 83ms/step - loss: 0.9214 - accuracy: 0.6307\n",
            "Epoch 14/50\n",
            "13/13 [==============================] - 1s 83ms/step - loss: 0.8372 - accuracy: 0.7121\n",
            "Epoch 15/50\n",
            "13/13 [==============================] - 1s 83ms/step - loss: 0.7612 - accuracy: 0.7205\n",
            "Epoch 16/50\n",
            "13/13 [==============================] - 1s 82ms/step - loss: 0.7517 - accuracy: 0.7212\n",
            "Epoch 17/50\n",
            "13/13 [==============================] - 1s 83ms/step - loss: 0.6758 - accuracy: 0.7497\n",
            "Epoch 18/50\n",
            "13/13 [==============================] - 1s 85ms/step - loss: 0.6131 - accuracy: 0.7620\n",
            "Epoch 19/50\n",
            "13/13 [==============================] - 1s 83ms/step - loss: 0.5762 - accuracy: 0.8114\n",
            "Epoch 20/50\n",
            "13/13 [==============================] - 1s 86ms/step - loss: 0.6249 - accuracy: 0.7858\n",
            "Epoch 21/50\n",
            "13/13 [==============================] - 1s 84ms/step - loss: 0.4851 - accuracy: 0.8636\n",
            "Epoch 22/50\n",
            "13/13 [==============================] - 1s 83ms/step - loss: 0.5743 - accuracy: 0.7863\n",
            "Epoch 23/50\n",
            "13/13 [==============================] - 1s 82ms/step - loss: 0.5725 - accuracy: 0.7790\n",
            "Epoch 24/50\n",
            "13/13 [==============================] - 1s 83ms/step - loss: 0.4910 - accuracy: 0.8056\n",
            "Epoch 25/50\n",
            "13/13 [==============================] - 1s 85ms/step - loss: 0.4079 - accuracy: 0.8535\n",
            "Epoch 26/50\n",
            "13/13 [==============================] - 1s 83ms/step - loss: 0.3573 - accuracy: 0.8644\n",
            "Epoch 27/50\n",
            "13/13 [==============================] - 1s 84ms/step - loss: 0.4068 - accuracy: 0.8613\n",
            "Epoch 28/50\n",
            "13/13 [==============================] - 1s 83ms/step - loss: 0.3861 - accuracy: 0.8747\n",
            "Epoch 29/50\n",
            "13/13 [==============================] - 1s 82ms/step - loss: 0.3795 - accuracy: 0.8440\n",
            "Epoch 30/50\n",
            "13/13 [==============================] - 1s 81ms/step - loss: 0.3602 - accuracy: 0.8937\n",
            "Epoch 31/50\n",
            "13/13 [==============================] - 1s 82ms/step - loss: 0.3706 - accuracy: 0.8722\n",
            "Epoch 32/50\n",
            "13/13 [==============================] - 1s 81ms/step - loss: 0.3329 - accuracy: 0.8773\n",
            "Epoch 33/50\n",
            "13/13 [==============================] - 1s 84ms/step - loss: 0.3088 - accuracy: 0.8844\n",
            "Epoch 34/50\n",
            "13/13 [==============================] - 1s 83ms/step - loss: 0.2834 - accuracy: 0.9227\n",
            "Epoch 35/50\n",
            "13/13 [==============================] - 1s 83ms/step - loss: 0.2904 - accuracy: 0.8868\n",
            "Epoch 36/50\n",
            "13/13 [==============================] - 1s 85ms/step - loss: 0.2254 - accuracy: 0.9183\n",
            "Epoch 37/50\n",
            "13/13 [==============================] - 1s 82ms/step - loss: 0.3343 - accuracy: 0.8760\n",
            "Epoch 38/50\n",
            "13/13 [==============================] - 1s 83ms/step - loss: 0.2902 - accuracy: 0.8974\n",
            "Epoch 39/50\n",
            "13/13 [==============================] - 1s 83ms/step - loss: 0.2981 - accuracy: 0.8809\n",
            "Epoch 40/50\n",
            "13/13 [==============================] - 1s 81ms/step - loss: 0.3183 - accuracy: 0.8906\n",
            "Epoch 41/50\n",
            "13/13 [==============================] - 1s 86ms/step - loss: 0.2779 - accuracy: 0.8993\n",
            "Epoch 42/50\n",
            "13/13 [==============================] - 1s 83ms/step - loss: 0.3627 - accuracy: 0.8757\n",
            "Epoch 43/50\n",
            "13/13 [==============================] - 1s 86ms/step - loss: 0.2242 - accuracy: 0.9154\n",
            "Epoch 44/50\n",
            "13/13 [==============================] - 1s 82ms/step - loss: 0.2691 - accuracy: 0.8898\n",
            "Epoch 45/50\n",
            "13/13 [==============================] - 1s 83ms/step - loss: 0.2852 - accuracy: 0.8943\n",
            "Epoch 46/50\n",
            "13/13 [==============================] - 1s 84ms/step - loss: 0.2685 - accuracy: 0.8863\n",
            "Epoch 47/50\n",
            "13/13 [==============================] - 1s 88ms/step - loss: 0.3011 - accuracy: 0.8889\n",
            "Epoch 48/50\n",
            "13/13 [==============================] - 1s 83ms/step - loss: 0.1971 - accuracy: 0.9298\n",
            "Epoch 49/50\n",
            "13/13 [==============================] - 1s 82ms/step - loss: 0.2377 - accuracy: 0.9219\n",
            "Epoch 50/50\n",
            "13/13 [==============================] - 1s 83ms/step - loss: 0.2342 - accuracy: 0.9148\n"
          ],
          "name": "stdout"
        }
      ]
    },
    {
      "cell_type": "markdown",
      "metadata": {
        "id": "ZyMuvInleog7"
      },
      "source": [
        "###**Saving the model and weights**\n",
        "  * Optimizer: Adam Optimizer\n",
        "  * Loss: Categorical crossentropy"
      ]
    },
    {
      "cell_type": "code",
      "metadata": {
        "id": "VyDzRks8nTDR"
      },
      "source": [
        "modelA.save('/content/gdrive/MyDrive/Checkpoints/train_model.h5')"
      ],
      "execution_count": null,
      "outputs": []
    },
    {
      "cell_type": "code",
      "metadata": {
        "id": "L3PwnOGDrexb"
      },
      "source": [
        "modelA.save_weights('/content/gdrive/MyDrive/Checkpoints/train_weights.h5')"
      ],
      "execution_count": null,
      "outputs": []
    },
    {
      "cell_type": "markdown",
      "metadata": {
        "id": "BBoYnKjCpzJH"
      },
      "source": [
        "##Training MNIST From Scratch\n"
      ]
    },
    {
      "cell_type": "code",
      "metadata": {
        "colab": {
          "base_uri": "https://localhost:8080/"
        },
        "id": "vM7eIB87zyiL",
        "outputId": "d5f3b06a-2b72-4811-a815-c644fa7efc06"
      },
      "source": [
        "#importing from keras API\n",
        "(x_train, y_train), (x_test, y_test)=tf.keras.datasets.mnist.load_data()\n",
        "\n",
        "x_train = tf.expand_dims(x_train, axis=3, name=None)\n",
        "x_test = tf.expand_dims(x_test, axis=3, name=None)\n",
        "\n",
        "#Since our input images have 3 channels(ImageDataGenerator is color=rgb by default) we add 3 dimensions\n",
        "x_train = tf.repeat(x_train, 3, axis=3)\n",
        "x_test = tf.repeat(x_test, 3, axis=3)\n",
        "y_test = tf.keras.utils.to_categorical(y_test, 10)\n",
        "y_train = tf.keras.utils.to_categorical(y_train, 10)\n",
        "\n",
        "print(x_train.shape)"
      ],
      "execution_count": null,
      "outputs": [
        {
          "output_type": "stream",
          "text": [
            "(60000, 28, 28, 3)\n"
          ],
          "name": "stdout"
        }
      ]
    },
    {
      "cell_type": "code",
      "metadata": {
        "id": "hP29WCGYoW7P"
      },
      "source": [
        "modelB = ModifiedNet(x_train[0].shape)"
      ],
      "execution_count": null,
      "outputs": []
    },
    {
      "cell_type": "markdown",
      "metadata": {
        "id": "lYiT6x5MwfpP"
      },
      "source": [
        "###Compiling the model:\n",
        "After observing "
      ]
    },
    {
      "cell_type": "code",
      "metadata": {
        "id": "8xgUINPiz_kT"
      },
      "source": [
        "modelB.compile(optimizer='adam', loss=losses.sparse_categorical_crossentropy, metrics=['accuracy'])"
      ],
      "execution_count": null,
      "outputs": []
    },
    {
      "cell_type": "code",
      "metadata": {
        "id": "p06aBfG_wl19"
      },
      "source": [
        ""
      ],
      "execution_count": null,
      "outputs": []
    },
    {
      "cell_type": "code",
      "metadata": {
        "colab": {
          "base_uri": "https://localhost:8080/"
        },
        "id": "fmMYS6ozIATB",
        "outputId": "8aee74ab-4e94-4c69-81dc-134a52c69ad8"
      },
      "source": [
        "history2_scratch = modelB.fit(x_train, y_train, batch_size=64, epochs=10)\n"
      ],
      "execution_count": null,
      "outputs": [
        {
          "output_type": "stream",
          "text": [
            "Epoch 1/10\n",
            "938/938 [==============================] - 5s 5ms/step - loss: 0.9814 - accuracy: 0.6660\n",
            "Epoch 2/10\n",
            "938/938 [==============================] - 4s 5ms/step - loss: 0.2211 - accuracy: 0.9330\n",
            "Epoch 3/10\n",
            "938/938 [==============================] - 4s 5ms/step - loss: 0.1765 - accuracy: 0.9469\n",
            "Epoch 4/10\n",
            "938/938 [==============================] - 4s 5ms/step - loss: 0.1516 - accuracy: 0.9555\n",
            "Epoch 5/10\n",
            "938/938 [==============================] - 4s 5ms/step - loss: 0.1295 - accuracy: 0.9609\n",
            "Epoch 6/10\n",
            "938/938 [==============================] - 4s 5ms/step - loss: 0.1280 - accuracy: 0.9627\n",
            "Epoch 7/10\n",
            "938/938 [==============================] - 4s 5ms/step - loss: 0.1078 - accuracy: 0.9672\n",
            "Epoch 8/10\n",
            "938/938 [==============================] - 4s 5ms/step - loss: 0.1103 - accuracy: 0.9686\n",
            "Epoch 9/10\n",
            "938/938 [==============================] - 4s 5ms/step - loss: 0.0977 - accuracy: 0.9709\n",
            "Epoch 10/10\n",
            "938/938 [==============================] - 4s 5ms/step - loss: 0.1011 - accuracy: 0.9716\n"
          ],
          "name": "stdout"
        }
      ]
    },
    {
      "cell_type": "markdown",
      "metadata": {
        "id": "BMKOzAqOvY1m"
      },
      "source": [
        "###Loading the previously trained model"
      ]
    },
    {
      "cell_type": "code",
      "metadata": {
        "id": "FqWRAppVIQmq"
      },
      "source": [
        "from keras.models import load_model\n",
        "modelC = load_model('/content/gdrive/MyDrive/Checkpoints/train_model.h5')"
      ],
      "execution_count": null,
      "outputs": []
    },
    {
      "cell_type": "code",
      "metadata": {
        "colab": {
          "base_uri": "https://localhost:8080/"
        },
        "id": "7oiQ3OPtp96L",
        "outputId": "aa1d3612-8356-4308-e0b7-fbe6dbc8a249"
      },
      "source": [
        "modelC.summary()"
      ],
      "execution_count": null,
      "outputs": [
        {
          "output_type": "stream",
          "text": [
            "Model: \"ModifiedNet\"\n",
            "_________________________________________________________________\n",
            "Layer (type)                 Output Shape              Param #   \n",
            "=================================================================\n",
            "input_5 (InputLayer)         [(None, 28, 28, 3)]       0         \n",
            "_________________________________________________________________\n",
            "conv0 (Conv2D)               (None, 26, 26, 48)        1344      \n",
            "_________________________________________________________________\n",
            "bn0 (BatchNormalization)     (None, 26, 26, 48)        192       \n",
            "_________________________________________________________________\n",
            "activation_16 (Activation)   (None, 26, 26, 48)        0         \n",
            "_________________________________________________________________\n",
            "max0 (MaxPooling2D)          (None, 12, 12, 48)        0         \n",
            "_________________________________________________________________\n",
            "conv1 (Conv2D)               (None, 10, 10, 64)        27712     \n",
            "_________________________________________________________________\n",
            "bn1 (BatchNormalization)     (None, 10, 10, 64)        256       \n",
            "_________________________________________________________________\n",
            "activation_17 (Activation)   (None, 10, 10, 64)        0         \n",
            "_________________________________________________________________\n",
            "max1 (MaxPooling2D)          (None, 4, 4, 64)          0         \n",
            "_________________________________________________________________\n",
            "conv2 (Conv2D)               (None, 4, 4, 96)          55392     \n",
            "_________________________________________________________________\n",
            "bn2 (BatchNormalization)     (None, 4, 4, 96)          384       \n",
            "_________________________________________________________________\n",
            "activation_18 (Activation)   (None, 4, 4, 96)          0         \n",
            "_________________________________________________________________\n",
            "conv4 (Conv2D)               (None, 4, 4, 64)          55360     \n",
            "_________________________________________________________________\n",
            "bn4 (BatchNormalization)     (None, 4, 4, 64)          256       \n",
            "_________________________________________________________________\n",
            "activation_19 (Activation)   (None, 4, 4, 64)          0         \n",
            "_________________________________________________________________\n",
            "max2 (MaxPooling2D)          (None, 1, 1, 64)          0         \n",
            "_________________________________________________________________\n",
            "flatten_4 (Flatten)          (None, 64)                0         \n",
            "_________________________________________________________________\n",
            "fc0 (Dense)                  (None, 32)                2080      \n",
            "_________________________________________________________________\n",
            "dropout_3 (Dropout)          (None, 32)                0         \n",
            "_________________________________________________________________\n",
            "fc1 (Dense)                  (None, 32)                1056      \n",
            "_________________________________________________________________\n",
            "dropout_4 (Dropout)          (None, 32)                0         \n",
            "_________________________________________________________________\n",
            "fc2 (Dense)                  (None, 10)                330       \n",
            "=================================================================\n",
            "Total params: 144,362\n",
            "Trainable params: 143,818\n",
            "Non-trainable params: 544\n",
            "_________________________________________________________________\n"
          ],
          "name": "stdout"
        }
      ]
    },
    {
      "cell_type": "markdown",
      "metadata": {
        "id": "pU0PNMxCvfaW"
      },
      "source": [
        "###Training on the previously loaded model\n",
        "  *We have not specified either losses or optimizer, they were already there from the loaded model.\n"
      ]
    },
    {
      "cell_type": "code",
      "metadata": {
        "colab": {
          "base_uri": "https://localhost:8080/"
        },
        "id": "KaQlDA8bqaV3",
        "outputId": "39fc3067-b16f-4d29-babf-5fe5fe5b698a"
      },
      "source": [
        "history2_pretrained = modelC.fit(x_train, y_train, batch_size=64, epochs=10)\n"
      ],
      "execution_count": null,
      "outputs": [
        {
          "output_type": "stream",
          "text": [
            "Epoch 1/10\n",
            "938/938 [==============================] - 5s 5ms/step - loss: 0.3642 - accuracy: 0.8883\n",
            "Epoch 2/10\n",
            "938/938 [==============================] - 5s 5ms/step - loss: 0.2124 - accuracy: 0.9350\n",
            "Epoch 3/10\n",
            "938/938 [==============================] - 5s 5ms/step - loss: 0.1678 - accuracy: 0.9500\n",
            "Epoch 4/10\n",
            "938/938 [==============================] - 5s 5ms/step - loss: 0.1404 - accuracy: 0.9587\n",
            "Epoch 5/10\n",
            "938/938 [==============================] - 5s 5ms/step - loss: 0.1282 - accuracy: 0.9613\n",
            "Epoch 6/10\n",
            "938/938 [==============================] - 5s 5ms/step - loss: 0.1168 - accuracy: 0.9662\n",
            "Epoch 7/10\n",
            "938/938 [==============================] - 5s 5ms/step - loss: 0.1116 - accuracy: 0.9675\n",
            "Epoch 8/10\n",
            "938/938 [==============================] - 5s 5ms/step - loss: 0.1022 - accuracy: 0.9693\n",
            "Epoch 9/10\n",
            "938/938 [==============================] - 5s 5ms/step - loss: 0.1061 - accuracy: 0.9686\n",
            "Epoch 10/10\n",
            "938/938 [==============================] - 5s 5ms/step - loss: 0.0907 - accuracy: 0.9720\n"
          ],
          "name": "stdout"
        }
      ]
    },
    {
      "cell_type": "code",
      "metadata": {
        "colab": {
          "base_uri": "https://localhost:8080/",
          "height": 573
        },
        "id": "VW4IAK93qmfb",
        "outputId": "7b2b7406-76df-41a2-e964-ed33482c6359"
      },
      "source": [
        "plt.plot(history2_scratch.history['accuracy'])\n",
        "plt.plot(history2_pretrained.history['accuracy'])\n",
        "plt.title('model accuracy')\n",
        "plt.ylabel('accuracy')\n",
        "plt.xlabel('epoch')\n",
        "plt.legend(['train', 'pre-trained'], loc='upper left')\n",
        "plt.show()\n",
        "plt.plot(history2_scratch.history['loss'])\n",
        "plt.plot(history2_pretrained.history['loss'])\n",
        "plt.title('model loss')\n",
        "plt.ylabel('loss')\n",
        "plt.xlabel('epoch')\n",
        "plt.legend(['train', 'pre-trained'], loc='upper left')\n",
        "plt.show()"
      ],
      "execution_count": null,
      "outputs": [
        {
          "output_type": "display_data",
          "data": {
            "image/png": "[encoded data removed]",
            "text/plain": [
              "<Figure size 432x288 with 1 Axes>"
            ]
          },
          "metadata": {
            "tags": [],
            "needs_background": "light"
          }
        },
        {
          "output_type": "display_data",
          "data": {
            "image/png": "[encoded data removed]",
            "text/plain": [
              "<Figure size 432x288 with 1 Axes>"
            ]
          },
          "metadata": {
            "tags": [],
            "needs_background": "light"
          }
        }
      ]
    },
    {
      "cell_type": "markdown",
      "metadata": {
        "id": "T3oMYuij3YMs"
      },
      "source": [
        "###Analysis:\n",
        "\n",
        "Pre_trained weights  | Scratch Initialized \n",
        "-------------------|------------------\n",
        "97.2 Accuracy      | 97.16 Accuracy \n",
        "0.0907 Loss      | 0.101 Loss "
      ]
    },
    {
      "cell_type": "markdown",
      "metadata": {
        "id": "OGoKGShY4otE"
      },
      "source": [
        "###Few Inferences we can make:\n",
        "\n",
        "* The training data has an impact on our learning rate. Even though the final accuracy is near same for both models, owing to the fact that the network is extensive. We can observe from the graph that pretrained model accuracy is higher than the from one scratch initialized. This can be attirbuted to the fact that the features learned in the first part helped the model to learn features. \n",
        "\n",
        "\n",
        "* When loss of both models is compared it is observed that same trends can be found. Another observation can be made that initial loss for the model which was pretrained is very less compared to the scratch trained one. Therefore the model converges faster than scratch one.\n",
        "\n",
        "If we equate with a real life example, Suppose a person learns to drive a bicycle and then attends learns to drive a scooty, they will learn faster than someone who is new to learning scooty without having experience in riding a bike. This is what is called Transfer learning\n"
      ]
    },
    {
      "cell_type": "markdown",
      "metadata": {
        "id": "rPdf-gcps-bA"
      },
      "source": [
        "#Part 3\n",
        " \n",
        " ***"
      ]
    },
    {
      "cell_type": "markdown",
      "metadata": {
        "id": "buNbkiUs2Eb0"
      },
      "source": [
        "###Basic Preprocessing"
      ]
    },
    {
      "cell_type": "code",
      "metadata": {
        "id": "w-pCQh7asEP4"
      },
      "source": [
        "!unzip /content/gdrive/MyDrive/mnistTask3.zip > /dev/null"
      ],
      "execution_count": null,
      "outputs": []
    },
    {
      "cell_type": "code",
      "metadata": {
        "colab": {
          "base_uri": "https://localhost:8080/"
        },
        "id": "exCiPcgOtCkG",
        "outputId": "859ed175-e877-474e-e2c2-58265f08e359"
      },
      "source": [
        "path2 = '/content/mnistTask'\n",
        "noise_datagen = ImageDataGenerator(rescale=1. / 255)\n",
        "ntrain = train_datagen.flow_from_directory(path2, target_size=(28,28), class_mode='categorical')"
      ],
      "execution_count": null,
      "outputs": [
        {
          "output_type": "stream",
          "text": [
            "Found 60000 images belonging to 10 classes.\n"
          ],
          "name": "stdout"
        }
      ]
    },
    {
      "cell_type": "code",
      "metadata": {
        "id": "MOzzT-ACtLXE"
      },
      "source": [
        "nModel_scratch = ModifiedNet(ntrain[0][0].shape[1:])"
      ],
      "execution_count": null,
      "outputs": []
    },
    {
      "cell_type": "code",
      "metadata": {
        "id": "iI6cAZoqtfU1"
      },
      "source": [
        "nModel_scratch.compile(optimizer = 'adam' , loss = 'categorical_crossentropy' , metrics=['accuracy'])"
      ],
      "execution_count": null,
      "outputs": []
    },
    {
      "cell_type": "markdown",
      "metadata": {
        "id": "r4z3HavTyNyd"
      },
      "source": [
        "###Model Training\n",
        "\n",
        "Using more than 10 epochs won't yield results since we are training on noise and the computer will keep adding and removing losses ranndomly"
      ]
    },
    {
      "cell_type": "code",
      "metadata": {
        "colab": {
          "base_uri": "https://localhost:8080/"
        },
        "id": "Rlbk1Uhntkx0",
        "outputId": "9d557bff-4948-4978-989c-78c8ab24a293"
      },
      "source": [
        "historyB_scratch = nModel_scratch.fit(ntrain,epochs=10)"
      ],
      "execution_count": null,
      "outputs": [
        {
          "output_type": "stream",
          "text": [
            "Epoch 1/10\n",
            "1875/1875 [==============================] - 18s 9ms/step - loss: 2.3026 - accuracy: 0.1025\n",
            "Epoch 2/10\n",
            "1875/1875 [==============================] - 18s 9ms/step - loss: 2.3027 - accuracy: 0.1002\n",
            "Epoch 3/10\n",
            "1875/1875 [==============================] - 18s 9ms/step - loss: 2.3027 - accuracy: 0.1019\n",
            "Epoch 4/10\n",
            "1875/1875 [==============================] - 18s 10ms/step - loss: 2.3027 - accuracy: 0.1010\n",
            "Epoch 5/10\n",
            "1875/1875 [==============================] - 18s 9ms/step - loss: 2.3026 - accuracy: 0.1009\n",
            "Epoch 6/10\n",
            "1875/1875 [==============================] - 18s 10ms/step - loss: 2.3027 - accuracy: 0.1012\n",
            "Epoch 7/10\n",
            "1875/1875 [==============================] - 18s 10ms/step - loss: 2.3026 - accuracy: 0.1017\n",
            "Epoch 8/10\n",
            "1875/1875 [==============================] - 18s 10ms/step - loss: 2.3027 - accuracy: 0.1011\n",
            "Epoch 9/10\n",
            "1875/1875 [==============================] - 18s 10ms/step - loss: 2.3027 - accuracy: 0.0995\n",
            "Epoch 10/10\n",
            "1875/1875 [==============================] - 18s 10ms/step - loss: 2.3026 - accuracy: 0.1023\n"
          ],
          "name": "stdout"
        }
      ]
    },
    {
      "cell_type": "code",
      "metadata": {
        "colab": {
          "base_uri": "https://localhost:8080/"
        },
        "id": "7jDonsQStsUb",
        "outputId": "4d9a8531-c713-48d5-cb58-b28816cd6c93"
      },
      "source": [
        "nModel_scratch.evaluate(x_test,y_test,batch_size=32)"
      ],
      "execution_count": null,
      "outputs": [
        {
          "output_type": "stream",
          "text": [
            "313/313 [==============================] - 1s 3ms/step - loss: 11.0989 - accuracy: 0.0454\n"
          ],
          "name": "stdout"
        },
        {
          "output_type": "execute_result",
          "data": {
            "text/plain": [
              "[11.098945617675781, 0.04540000110864639]"
            ]
          },
          "metadata": {
            "tags": []
          },
          "execution_count": 103
        }
      ]
    },
    {
      "cell_type": "code",
      "metadata": {
        "id": "u1s1_OXhyhcK"
      },
      "source": [
        "nModel_pretrained = load_model('/content/gdrive/MyDrive/Checkpoints/train_model.h5')"
      ],
      "execution_count": null,
      "outputs": []
    },
    {
      "cell_type": "code",
      "metadata": {
        "colab": {
          "base_uri": "https://localhost:8080/"
        },
        "id": "qbttuVCQz987",
        "outputId": "25b50997-c6e5-4e17-9302-7978a3006607"
      },
      "source": [
        "historyB_pretrained = modelC.fit(ntrain, batch_size=64, epochs=10)"
      ],
      "execution_count": null,
      "outputs": [
        {
          "output_type": "stream",
          "text": [
            "Epoch 1/10\n",
            "1875/1875 [==============================] - 19s 10ms/step - loss: 2.3027 - accuracy: 0.0996\n",
            "Epoch 2/10\n",
            "1875/1875 [==============================] - 19s 10ms/step - loss: 2.3027 - accuracy: 0.1010\n",
            "Epoch 3/10\n",
            "1875/1875 [==============================] - 19s 10ms/step - loss: 2.3027 - accuracy: 0.1018\n",
            "Epoch 4/10\n",
            "1875/1875 [==============================] - 19s 10ms/step - loss: 2.3026 - accuracy: 0.1010\n",
            "Epoch 5/10\n",
            "1875/1875 [==============================] - 18s 10ms/step - loss: 2.3026 - accuracy: 0.1013\n",
            "Epoch 6/10\n",
            "1875/1875 [==============================] - 19s 10ms/step - loss: 2.3027 - accuracy: 0.1001\n",
            "Epoch 7/10\n",
            "1875/1875 [==============================] - 18s 10ms/step - loss: 2.3027 - accuracy: 0.1018\n",
            "Epoch 8/10\n",
            "1875/1875 [==============================] - 19s 10ms/step - loss: 2.3026 - accuracy: 0.0989\n",
            "Epoch 9/10\n",
            "1875/1875 [==============================] - 19s 10ms/step - loss: 2.3027 - accuracy: 0.1006\n",
            "Epoch 10/10\n",
            "1875/1875 [==============================] - 19s 10ms/step - loss: 2.3026 - accuracy: 0.1006\n"
          ],
          "name": "stdout"
        }
      ]
    },
    {
      "cell_type": "code",
      "metadata": {
        "colab": {
          "base_uri": "https://localhost:8080/",
          "height": 573
        },
        "id": "SuI23WmS0iF3",
        "outputId": "5756cdac-3e1d-4a4c-d6b7-181f1b881d24"
      },
      "source": [
        "plt.plot(historyB_scratch.history['accuracy'])\n",
        "plt.plot(historyB_pretrained.history['accuracy'])\n",
        "plt.title('model accuracy')\n",
        "plt.ylabel('accuracy')\n",
        "plt.xlabel('epoch')\n",
        "plt.legend(['train', 'pre-trained'], loc='upper left')\n",
        "plt.show()\n",
        "plt.plot(historyB_scratch.history['loss'])\n",
        "plt.plot(historyB_pretrained.history['loss'])\n",
        "plt.title('model loss')\n",
        "plt.ylabel('loss')\n",
        "plt.xlabel('epoch')\n",
        "plt.legend(['train', 'pre-trained'], loc='upper left')\n",
        "plt.show()"
      ],
      "execution_count": null,
      "outputs": [
        {
          "output_type": "display_data",
          "data": {
            "image/png": "[encoded data removed]",
            "text/plain": [
              "<Figure size 432x288 with 1 Axes>"
            ]
          },
          "metadata": {
            "tags": [],
            "needs_background": "light"
          }
        },
        {
          "output_type": "display_data",
          "data": {
            "image/png": "[encoded data removed]",
            "text/plain": [
              "<Figure size 432x288 with 1 Axes>"
            ]
          },
          "metadata": {
            "tags": [],
            "needs_background": "light"
          }
        }
      ]
    },
    {
      "cell_type": "code",
      "metadata": {
        "id": "B0hVjcCH2vfs"
      },
      "source": [
        "nModel_scratch.save('/content/gdrive/MyDrive/Checkpoints/ntrain_model.h5')\n",
        "nModel_pretrained.save('/content/gdrive/MyDrive/Checkpoints/npretrained_model.h5')"
      ],
      "execution_count": null,
      "outputs": []
    },
    {
      "cell_type": "markdown",
      "metadata": {
        "id": "a1DhG_UX8MJj"
      },
      "source": [
        "Observations\n",
        "\n",
        "* When loss of both models is compared. It seen that loss of pre_trained model is always less than that of scratch trained one. The reason we can say is that the pre_trained model had less training samples, and a model with a large number of parameters, therefore the model did overfit, that is learnt unncessary features such a noise in the images. \n",
        "\n",
        "Since the model here is about training noise, it came to our expectation, that the pretrained was better in predicting noise than the scratch trained one. Showing that transfer learning again indeed helped in learning features\n"
      ]
    }
  ]
}