{
  "nbformat": 4,
  "nbformat_minor": 0,
  "metadata": {
    "colab": {
      "name": "A1-Part1",
      "provenance": [],
      "collapsed_sections": [],
      "toc_visible": true,
      "include_colab_link": true
    },
    "kernelspec": {
      "name": "python3",
      "display_name": "Python 3"
    },
    "language_info": {
      "name": "python"
    },
    "accelerator": "GPU"
  },
  "cells": [
    {
      "cell_type": "markdown",
      "metadata": {
        "id": "view-in-github",
        "colab_type": "text"
      },
      "source": [
        "<a href=\"https://colab.research.google.com/github/DirectriX01/miidas/blob/master/A1_Part1.ipynb\" target=\"_parent\"><img src=\"https://colab.research.google.com/assets/colab-badge.svg\" alt=\"Open In Colab\"/></a>"
      ]
    },
    {
      "cell_type": "markdown",
      "metadata": {
        "id": "DWT9FdE0hj5C"
      },
      "source": [
        "#Task-2(Image Classification)\n",
        "**Part A** : Train on the given dataset using a CNN"
      ]
    },
    {
      "cell_type": "markdown",
      "metadata": {
        "id": "0dMi4yrmVKNU"
      },
      "source": [
        "##1.Setting up the environment\n"
      ]
    },
    {
      "cell_type": "markdown",
      "metadata": {
        "id": "BC69KUXHy3cC"
      },
      "source": [
        "The dataset is uploaded on google drive. We use the `drive.mount()` method to load the dataset into our environment.\n"
      ]
    },
    {
      "cell_type": "code",
      "metadata": {
        "colab": {
          "base_uri": "https://localhost:8080/"
        },
        "id": "Op3LSQ0AYnU7",
        "outputId": "980afc18-1614-4df0-d92e-93f3c346b78d"
      },
      "source": [
        "from google.colab import drive\n",
        "drive.mount('/content/gdrive')"
      ],
      "execution_count": 1,
      "outputs": [
        {
          "output_type": "stream",
          "text": [
            "Mounted at /content/gdrive\n"
          ],
          "name": "stdout"
        }
      ]
    },
    {
      "cell_type": "markdown",
      "metadata": {
        "id": "JVhGXCzW1-3R"
      },
      "source": [
        "The files were  been downloaed from [Dropbox-Dataset](https://www.dropbox.com/s/pan6mutc5xj5kj0/trainPart1.zip) and saved on the path `file_list` "
      ]
    },
    {
      "cell_type": "code",
      "metadata": {
        "id": "sD3B4pmEaIe3"
      },
      "source": [
        "import os \n",
        "file_list = sorted(os.listdir('/content/gdrive/MyDrive/train'))"
      ],
      "execution_count": 2,
      "outputs": []
    },
    {
      "cell_type": "markdown",
      "metadata": {
        "id": "TztYDPw33PqY"
      },
      "source": [
        "###1.1 Setting up the framework:\n",
        " The default tensorflow framework is uninstalled in favor of tensorflow-gpu which is compatible for training in Colab's GPU environment."
      ]
    },
    {
      "cell_type": "code",
      "metadata": {
        "id": "VV2vEcnA3Np0",
        "colab": {
          "base_uri": "https://localhost:8080/"
        },
        "outputId": "b81f54dc-baf9-48a8-dc05-bc53f291b393"
      },
      "source": [
        "!pip uninstall tensorflow  -y \n",
        "!pip install tensorflow-gpu &> /dev/null # stable\n",
        "\n",
        "import tensorflow as tf\n",
        "print(tf.__version__)\n",
        "\n",
        "from tensorflow.python.client import device_lib\n",
        "device_lib.list_local_devices()"
      ],
      "execution_count": 3,
      "outputs": [
        {
          "output_type": "stream",
          "text": [
            "Uninstalling tensorflow-2.4.1:\n",
            "  Successfully uninstalled tensorflow-2.4.1\n",
            "2.4.1\n"
          ],
          "name": "stdout"
        },
        {
          "output_type": "execute_result",
          "data": {
            "text/plain": [
              "[name: \"/device:CPU:0\"\n",
              " device_type: \"CPU\"\n",
              " memory_limit: 268435456\n",
              " locality {\n",
              " }\n",
              " incarnation: 11814872388372313745, name: \"/device:GPU:0\"\n",
              " device_type: \"GPU\"\n",
              " memory_limit: 14646682624\n",
              " locality {\n",
              "   bus_id: 1\n",
              "   links {\n",
              "   }\n",
              " }\n",
              " incarnation: 16922865157638520175\n",
              " physical_device_desc: \"device: 0, name: Tesla T4, pci bus id: 0000:00:04.0, compute capability: 7.5\"]"
            ]
          },
          "metadata": {
            "tags": []
          },
          "execution_count": 3
        }
      ]
    },
    {
      "cell_type": "markdown",
      "metadata": {
        "id": "0gv4VN3nWe78"
      },
      "source": [
        "\n",
        "###1.2 Packages\n",
        "\n",
        "* numpy is the main package for scientific computing with Python.\n",
        "\n",
        "* matplotlib is a library to plot graphs in Python.\n",
        "\n",
        "* Keras API will be used for training the model\n",
        "\n",
        "* cv2 - OpenCv is an library built for various computer vision functions"
      ]
    },
    {
      "cell_type": "code",
      "metadata": {
        "id": "fTKeoGxQUA_B"
      },
      "source": [
        "import numpy as np\n",
        "from keras import layers\n",
        "from keras.layers import Input, Dense, Activation,BatchNormalization, Flatten, Conv2D, MaxPooling2D, Dropout\n",
        "from keras.models import Model\n",
        "#The ImageDataGenerator is an inbuilt function which will help us with image pre-processing \n",
        "from  keras.preprocessing.image import ImageDataGenerator\n",
        "import matplotlib.pyplot as plt\n",
        "import matplotlib.image as mpimg\n",
        "import cv2"
      ],
      "execution_count": 23,
      "outputs": []
    },
    {
      "cell_type": "markdown",
      "metadata": {
        "id": "Ue5ifeVv726_"
      },
      "source": [
        "##2.Exploring Dataset\n",
        "\n"
      ]
    },
    {
      "cell_type": "code",
      "metadata": {
        "colab": {
          "base_uri": "https://localhost:8080/"
        },
        "id": "QkVpQE-98NPf",
        "outputId": "21f17708-203e-4460-8998-5e024ff81f00"
      },
      "source": [
        "len(os.listdir('/content/gdrive/MyDrive/train'))\n",
        "!ls '/content/gdrive/MyDrive/train'\n"
      ],
      "execution_count": 9,
      "outputs": [
        {
          "output_type": "stream",
          "text": [
            "Sample001  Sample010  Sample019  Sample028  Sample037  Sample046  Sample055\n",
            "Sample002  Sample011  Sample020  Sample029  Sample038  Sample047  Sample056\n",
            "Sample003  Sample012  Sample021  Sample030  Sample039  Sample048  Sample057\n",
            "Sample004  Sample013  Sample022  Sample031  Sample040  Sample049  Sample058\n",
            "Sample005  Sample014  Sample023  Sample032  Sample041  Sample050  Sample059\n",
            "Sample006  Sample015  Sample024  Sample033  Sample042  Sample051  Sample060\n",
            "Sample007  Sample016  Sample025  Sample034  Sample043  Sample052  Sample061\n",
            "Sample008  Sample017  Sample026  Sample035  Sample044  Sample053  Sample062\n",
            "Sample009  Sample018  Sample027  Sample036  Sample045  Sample054\n"
          ],
          "name": "stdout"
        }
      ]
    },
    {
      "cell_type": "code",
      "metadata": {
        "colab": {
          "base_uri": "https://localhost:8080/"
        },
        "id": "C_iM8hc9-Aav",
        "outputId": "77653451-ebed-45f6-c2fb-b2161e0d09f8"
      },
      "source": [
        "print(len(os.listdir('/content/gdrive/MyDrive/train/Sample001')))\n",
        "print(os.listdir('/content/gdrive/MyDrive/train/Sample001'))"
      ],
      "execution_count": 10,
      "outputs": [
        {
          "output_type": "stream",
          "text": [
            "40\n",
            "['img001-008.png', 'img001-002.png', 'img001-034.png', 'img001-003.png', 'img001-018.png', 'img001-004.png', 'img001-046.png', 'img001-036.png', 'img001-055.png', 'img001-047.png', 'img001-045.png', 'img001-007.png', 'img001-049.png', 'img001-042.png', 'img001-051.png', 'img001-044.png', 'img001-013.png', 'img001-016.png', 'img001-017.png', 'img001-037.png', 'img001-052.png', 'img001-054.png', 'img001-053.png', 'img001-043.png', 'img001-014.png', 'img001-024.png', 'img001-019.png', 'img001-010.png', 'img001-001.png', 'img001-030.png', 'img001-011.png', 'img001-026.png', 'img001-033.png', 'img001-012.png', 'img001-025.png', 'img001-029.png', 'img001-021.png', 'img001-009.png', 'img001-050.png', 'img001-027.png']\n"
          ],
          "name": "stdout"
        }
      ]
    },
    {
      "cell_type": "markdown",
      "metadata": {
        "id": "nF4qk89u9A6o"
      },
      "source": [
        "###2.1 Dataset Structure:\n",
        "  *   There are 62 image classes([0..9],[a..z],[A...Z])\n",
        "  *   Each class has 40 images\n",
        "  *   We have 2480 Training images\n",
        "\n",
        "\n",
        "\n"
      ]
    },
    {
      "cell_type": "code",
      "metadata": {
        "colab": {
          "base_uri": "https://localhost:8080/",
          "height": 773
        },
        "id": "LwDbX65_S4Gn",
        "outputId": "5c2067d1-456f-438c-9072-2a0ff71b01a7"
      },
      "source": [
        "for image in os.listdir('/content/gdrive/MyDrive/train/Sample001')[:3]:\n",
        "  img = mpimg.imread(os.path.join('/content/gdrive/MyDrive/train/Sample001',image))\n",
        "  imgplot = plt.imshow(img)\n",
        "  plt.show()"
      ],
      "execution_count": 11,
      "outputs": [
        {
          "output_type": "display_data",
          "data": {
            "image/png": "[encoded data removed]",
            "text/plain": [
              "<Figure size 432x288 with 1 Axes>"
            ]
          },
          "metadata": {
            "tags": [],
            "needs_background": "light"
          }
        },
        {
          "output_type": "display_data",
          "data": {
            "image/png": "[encoded data removed]",
            "text/plain": [
              "<Figure size 432x288 with 1 Axes>"
            ]
          },
          "metadata": {
            "tags": [],
            "needs_background": "light"
          }
        },
        {
          "output_type": "display_data",
          "data": {
            "image/png": "[encoded data removed]",
            "text/plain": [
              "<Figure size 432x288 with 1 Axes>"
            ]
          },
          "metadata": {
            "tags": [],
            "needs_background": "light"
          }
        }
      ]
    },
    {
      "cell_type": "markdown",
      "metadata": {
        "id": "drcS8_HsYDio"
      },
      "source": [
        "###2.2 Preprocessing:\n",
        "\n",
        "*   As we observe there is alot of whitespace around the digits and alphabets, which is unnecessary information for training. Therefore needs to be cropped or zoomed.\n",
        "*   Since the dataset is small we can go for cropping and we will manipulate the images using opencv. OpenCV is a library of programming functions mainly aimed at real-time computer vision. We shall use `cv2.threshold`,`cv2.findContours`,`cv2.boundingRect` to get a bouding box around our object of interest(digits or alphabet)\n",
        "\n",
        "Short descriptions of the ```cv2.functions()``` used:\n",
        "*   **cv2.threshold**: Used for thresholding pixel values if the image intensity is greater than a constant. This functions takes input of a grayscale image *only*. \n",
        "\n",
        "  >value, thresh = cv2.threshold(img_source, thresh, maxValue, cv2.THRESH_BINARY+cv.THRESH_OTSU)\n",
        "    \n",
        "    Otsu's method`cv2.THRESH_OTSU` avoids having to choose a value and determines it automatically\n",
        "*   **cv2.findContours**: Contours are lines joining the pixels of same intensity along a boundary. This function accepts binary images *only*. Since we don't have any object inside our objects(digits and alphabets), we won't be needing the `hierarchy` values.\n",
        "\n",
        "  >contours, hierarchy = cv2.findContours(thresh, cv2.RETR_EXTERNAL, cv2.CHAIN_APPROX_SIMPLE)\n",
        "  *   cv2.RETR_EXTERNAL: retrieves only the extreme outer contours\n",
        "  *   CHAIN_APPROX_SIMPLE: compresses horizontal, vertical, and diagonal segments and leaves only their end points\n",
        "\n",
        "*   **cv2.boundingRect**: returns values of bounding rectangle \n",
        "\n",
        "  >x,y,w,h = cv2.boundingRect(countour) \n",
        "\n",
        "\n",
        "\n"
      ]
    },
    {
      "cell_type": "code",
      "metadata": {
        "id": "jTuLgdxOx_re"
      },
      "source": [
        "path = '/content/gdrive/MyDrive/train'\n",
        "dirs = os.listdir(path)\n",
        "# print(list(dirs))\n",
        "path2 ='/content/gdrive/MyDrive/Train_Crop'\n",
        "if not(os.path.exists(path2)):\n",
        "  os.mkdir(path2)\n",
        "  for dir_name in dirs:\n",
        "    img_list = os.listdir(os.path.join(path,dir_name))\n",
        "    os.mkdir(os.path.join(path2,dir_name))\n",
        "    # print(img_list)\n",
        "    for img in img_list:\n",
        "      # print(img)\n",
        "      image = cv2.imread(os.path.join(path,dir_name,img))\n",
        "      original = image.copy()\n",
        "      gray = cv2.cvtColor(image, cv2.COLOR_BGR2GRAY)\n",
        "      thresh = cv2.threshold(gray, 0, 255, cv2.THRESH_BINARY_INV + cv2.THRESH_OTSU)[1]\n",
        "\n",
        "      cnts = cv2.findContours(thresh, cv2.RETR_EXTERNAL, cv2.CHAIN_APPROX_SIMPLE)\n",
        "      cnts = cnts[0] if len(cnts) == 2 else cnts[1]\n",
        "      x,y,w,h = cv2.boundingRect(cnts[0])\n",
        "      cv2.rectangle(image, (x, y), (x + w, y + h), (36,255,12), 2)\n",
        "      ROI = original[y:y+h, x:x+w]\n",
        "      cv2.imwrite(os.path.join(path2,dir_name,img), ROI)\n",
        "      # cv2_imshow(image)\n"
      ],
      "execution_count": 12,
      "outputs": []
    },
    {
      "cell_type": "markdown",
      "metadata": {
        "id": "JkmVJziMjcjr"
      },
      "source": [
        "###2.3 Loading the dateset and final preprocessing:\n",
        "* **Preprocessing images**\n",
        "\n",
        "  Keras inbuilt `ImageDataGenerator(**args, **kwargs)` class provides various techniques for image preprocessing. We shall proceed with this to augment our dataset. More  can be found here: [ImageDataGenerator Documentation](https://keras.io/api/preprocessing/image/#imagedatagenerator-class)\n",
        "\n",
        "* **Loading the dataset**\n",
        "\n",
        "  Keras inbuilt `flow_from_directory(**args, **kwargs)` method Takes the path to a directory & generates batches of augmented data. If no labels are specified then the directory names are taken as labels. More can be found here: [flow_from_directory Documentation](https://keras.io/api/preprocessing/image/#flowfromdirectory-method)\n"
      ]
    },
    {
      "cell_type": "code",
      "metadata": {
        "colab": {
          "base_uri": "https://localhost:8080/"
        },
        "id": "5ptEW8d71tkR",
        "outputId": "946e7c3d-fd22-43a1-8f31-644d0cdeae40"
      },
      "source": [
        "train_datagen = ImageDataGenerator(rescale=1. / 255)\n",
        "train = train_datagen.flow_from_directory(path2, target_size=(227,227), class_mode='categorical')"
      ],
      "execution_count": 13,
      "outputs": [
        {
          "output_type": "stream",
          "text": [
            "Found 2480 images belonging to 62 classes.\n"
          ],
          "name": "stdout"
        }
      ]
    },
    {
      "cell_type": "code",
      "metadata": {
        "colab": {
          "base_uri": "https://localhost:8080/"
        },
        "id": "olRmOKWV2GPO",
        "outputId": "b9ef256e-5f47-4da5-aa6c-4a83a2873660"
      },
      "source": [
        "print(\"Batch Size for Input Image : \",train[0][0].shape)\n",
        "print(\"Image Size of first image : \",train[0][0][0].shape)"
      ],
      "execution_count": 14,
      "outputs": [
        {
          "output_type": "stream",
          "text": [
            "Batch Size for Input Image :  (32, 227, 227, 3)\n",
            "Image Size of first image :  (227, 227, 3)\n"
          ],
          "name": "stdout"
        }
      ]
    },
    {
      "cell_type": "code",
      "metadata": {
        "colab": {
          "base_uri": "https://localhost:8080/",
          "height": 299
        },
        "id": "QbbbKCAE4h8o",
        "outputId": "84433958-c630-44c1-d35c-f3d74bf86be9"
      },
      "source": [
        "fig , axs = plt.subplots(2,2)\n",
        "\n",
        "axs[0][0].imshow(train[0][0][12])\n",
        "axs[0][0].set_title(np.where(train[0][1][12]==1))\n",
        "\n",
        "axs[0][1].imshow(train[0][0][10])\n",
        "axs[0][1].set_title(np.where(train[0][1][10]==1))\n",
        "\n",
        "axs[1][0].imshow(train[0][0][3])\n",
        "axs[1][0].set_title(np.where(train[0][1][3]==1))\n",
        "\n",
        "axs[1][1].imshow(train[0][0][6])\n",
        "axs[1][1].set_title(np.where(train[0][1][6]==1))"
      ],
      "execution_count": 17,
      "outputs": [
        {
          "output_type": "execute_result",
          "data": {
            "text/plain": [
              "Text(0.5, 1.0, '(array([0]),)')"
            ]
          },
          "metadata": {
            "tags": []
          },
          "execution_count": 17
        },
        {
          "output_type": "display_data",
          "data": {
            "image/png": "[encoded data removed]",
            "text/plain": [
              "<Figure size 432x288 with 4 Axes>"
            ]
          },
          "metadata": {
            "tags": [],
            "needs_background": "light"
          }
        }
      ]
    },
    {
      "cell_type": "markdown",
      "metadata": {
        "id": "W9s7oAL3mT-i"
      },
      "source": [
        "## **3.Architecture of your model:**\n",
        "\n",
        "AlexNet is an 8 layer deep neural network, since we are classifying digits and alphabets, we don't need many feature representation. Therefore we can avoid architectures such as ResNet-50 which is 50 layers deep.\n",
        "\n",
        "An overlay of the model given is found below([source](https://neurohive.io/en/popular-networks/alexnet-imagenet-classification-with-deep-convolutional-neural-networks/)):\n"
      ]
    },
    {
      "cell_type": "markdown",
      "metadata": {
        "id": "C_ciAZzxp6vT"
      },
      "source": [
        "![image.png](data:image/png;base64,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)"
      ]
    },
    {
      "cell_type": "code",
      "metadata": {
        "id": "nNAA7u_P2oNq"
      },
      "source": [
        "def AlexNet(input_shape):\n",
        "    \n",
        "    X_input = Input(input_shape)\n",
        "    \n",
        "    X = Conv2D(96,(11,11),strides = 4,name=\"conv0\")(X_input)\n",
        "    X = BatchNormalization(axis = 3 , name = \"bn0\")(X)\n",
        "    X = Activation('relu')(X)\n",
        "    \n",
        "    X = MaxPooling2D((3,3),strides = 2,name = 'max0')(X)\n",
        "    \n",
        "    X = Conv2D(256,(5,5),padding = 'same' , name = 'conv1')(X)\n",
        "    X = BatchNormalization(axis = 3 ,name='bn1')(X)\n",
        "    X = Activation('relu')(X)\n",
        "    \n",
        "    X = MaxPooling2D((3,3),strides = 2,name = 'max1')(X)\n",
        "    \n",
        "    X = Conv2D(384, (3,3) , padding = 'same' , name='conv2')(X)\n",
        "    X = BatchNormalization(axis = 3, name = 'bn2')(X)\n",
        "    X = Activation('relu')(X)\n",
        "    \n",
        "    X = Conv2D(384, (3,3) , padding = 'same' , name='conv3')(X)\n",
        "    X = BatchNormalization(axis = 3, name = 'bn3')(X)\n",
        "    X = Activation('relu')(X)\n",
        "    \n",
        "    X = Conv2D(256, (3,3) , padding = 'same' , name='conv4')(X)\n",
        "    X = BatchNormalization(axis = 3, name = 'bn4')(X)\n",
        "    X = Activation('relu')(X)\n",
        "    \n",
        "    X = MaxPooling2D((3,3),strides = 2,name = 'max2')(X)\n",
        "    \n",
        "    X = Flatten()(X)\n",
        "    \n",
        "    X = Dense(4096, activation = 'relu', name = \"fc0\")(X)\n",
        "    \n",
        "    X = Dense(4096, activation = 'relu', name = 'fc1')(X) \n",
        "    \n",
        "    X = Dense(62,activation='softmax',name = 'fc2')(X)\n",
        "    \n",
        "    model = Model(inputs = X_input, outputs = X, name='AlexNet')\n",
        "\n",
        "    \n",
        "    return model"
      ],
      "execution_count": 18,
      "outputs": []
    },
    {
      "cell_type": "markdown",
      "metadata": {
        "id": "NylCUmxhcmDT"
      },
      "source": [
        "##**4.Training the model**\n",
        "\n",
        "---"
      ]
    },
    {
      "cell_type": "code",
      "metadata": {
        "id": "xGSYyeo-2wzX"
      },
      "source": [
        "alex = AlexNet(train[0][0].shape[1:])"
      ],
      "execution_count": 19,
      "outputs": []
    },
    {
      "cell_type": "code",
      "metadata": {
        "colab": {
          "base_uri": "https://localhost:8080/"
        },
        "id": "ExUIX_xD3PQh",
        "outputId": "bd5b10dd-e323-4a1c-ff3a-24a9b79d2faf"
      },
      "source": [
        "alex.summary()"
      ],
      "execution_count": 20,
      "outputs": [
        {
          "output_type": "stream",
          "text": [
            "Model: \"AlexNet\"\n",
            "_________________________________________________________________\n",
            "Layer (type)                 Output Shape              Param #   \n",
            "=================================================================\n",
            "input_1 (InputLayer)         [(None, 227, 227, 3)]     0         \n",
            "_________________________________________________________________\n",
            "conv0 (Conv2D)               (None, 55, 55, 96)        34944     \n",
            "_________________________________________________________________\n",
            "bn0 (BatchNormalization)     (None, 55, 55, 96)        384       \n",
            "_________________________________________________________________\n",
            "activation (Activation)      (None, 55, 55, 96)        0         \n",
            "_________________________________________________________________\n",
            "max0 (MaxPooling2D)          (None, 27, 27, 96)        0         \n",
            "_________________________________________________________________\n",
            "conv1 (Conv2D)               (None, 27, 27, 256)       614656    \n",
            "_________________________________________________________________\n",
            "bn1 (BatchNormalization)     (None, 27, 27, 256)       1024      \n",
            "_________________________________________________________________\n",
            "activation_1 (Activation)    (None, 27, 27, 256)       0         \n",
            "_________________________________________________________________\n",
            "max1 (MaxPooling2D)          (None, 13, 13, 256)       0         \n",
            "_________________________________________________________________\n",
            "conv2 (Conv2D)               (None, 13, 13, 384)       885120    \n",
            "_________________________________________________________________\n",
            "bn2 (BatchNormalization)     (None, 13, 13, 384)       1536      \n",
            "_________________________________________________________________\n",
            "activation_2 (Activation)    (None, 13, 13, 384)       0         \n",
            "_________________________________________________________________\n",
            "conv3 (Conv2D)               (None, 13, 13, 384)       1327488   \n",
            "_________________________________________________________________\n",
            "bn3 (BatchNormalization)     (None, 13, 13, 384)       1536      \n",
            "_________________________________________________________________\n",
            "activation_3 (Activation)    (None, 13, 13, 384)       0         \n",
            "_________________________________________________________________\n",
            "conv4 (Conv2D)               (None, 13, 13, 256)       884992    \n",
            "_________________________________________________________________\n",
            "bn4 (BatchNormalization)     (None, 13, 13, 256)       1024      \n",
            "_________________________________________________________________\n",
            "activation_4 (Activation)    (None, 13, 13, 256)       0         \n",
            "_________________________________________________________________\n",
            "max2 (MaxPooling2D)          (None, 6, 6, 256)         0         \n",
            "_________________________________________________________________\n",
            "flatten (Flatten)            (None, 9216)              0         \n",
            "_________________________________________________________________\n",
            "fc0 (Dense)                  (None, 4096)              37752832  \n",
            "_________________________________________________________________\n",
            "fc1 (Dense)                  (None, 4096)              16781312  \n",
            "_________________________________________________________________\n",
            "fc2 (Dense)                  (None, 62)                254014    \n",
            "=================================================================\n",
            "Total params: 58,540,862\n",
            "Trainable params: 58,538,110\n",
            "Non-trainable params: 2,752\n",
            "_________________________________________________________________\n"
          ],
          "name": "stdout"
        }
      ]
    },
    {
      "cell_type": "markdown",
      "metadata": {
        "id": "X19EvGxhcChz"
      },
      "source": [
        "###**4.1 Compiling the model**\n",
        "  * Optimizer: Adam Optimizer: It is similar to RMS Prop and has worked well in wide range of deep learning applications\n",
        "  * Loss: Categorical crossentropy"
      ]
    },
    {
      "cell_type": "code",
      "metadata": {
        "id": "RBrP3A0L3Rde"
      },
      "source": [
        "alex.compile(optimizer = 'adam' , loss = 'categorical_crossentropy' , metrics=['accuracy'])"
      ],
      "execution_count": 21,
      "outputs": []
    },
    {
      "cell_type": "markdown",
      "metadata": {
        "id": "h7Svk9qSdBKK"
      },
      "source": [
        "###**4.2 Training the model**\n",
        "  * Epoch: 50. A higher number of epochs might lead to overfitting of the data."
      ]
    },
    {
      "cell_type": "code",
      "metadata": {
        "colab": {
          "base_uri": "https://localhost:8080/"
        },
        "id": "Ykho_iBy3Ybb",
        "outputId": "dabc4dd4-0bdd-4d6f-cb40-3fa2b0835a86"
      },
      "source": [
        "alex.fit_generator(train,epochs=50)"
      ],
      "execution_count": 22,
      "outputs": [
        {
          "output_type": "stream",
          "text": [
            "/usr/local/lib/python3.7/dist-packages/tensorflow/python/keras/engine/training.py:1844: UserWarning: `Model.fit_generator` is deprecated and will be removed in a future version. Please use `Model.fit`, which supports generators.\n",
            "  warnings.warn('`Model.fit_generator` is deprecated and '\n"
          ],
          "name": "stderr"
        },
        {
          "output_type": "stream",
          "text": [
            "Epoch 1/50\n",
            "78/78 [==============================] - 783s 10s/step - loss: 19.0052 - accuracy: 0.0499\n",
            "Epoch 2/50\n",
            "78/78 [==============================] - 10s 122ms/step - loss: 2.1881 - accuracy: 0.3588\n",
            "Epoch 3/50\n",
            "78/78 [==============================] - 10s 123ms/step - loss: 1.3952 - accuracy: 0.5693\n",
            "Epoch 4/50\n",
            "78/78 [==============================] - 10s 123ms/step - loss: 0.9954 - accuracy: 0.6741\n",
            "Epoch 5/50\n",
            "78/78 [==============================] - 10s 122ms/step - loss: 0.8417 - accuracy: 0.7161\n",
            "Epoch 6/50\n",
            "78/78 [==============================] - 9s 120ms/step - loss: 0.6369 - accuracy: 0.7727\n",
            "Epoch 7/50\n",
            "78/78 [==============================] - 9s 121ms/step - loss: 0.6336 - accuracy: 0.7614\n",
            "Epoch 8/50\n",
            "78/78 [==============================] - 10s 121ms/step - loss: 0.4873 - accuracy: 0.8224\n",
            "Epoch 9/50\n",
            "78/78 [==============================] - 10s 124ms/step - loss: 0.4490 - accuracy: 0.8410\n",
            "Epoch 10/50\n",
            "78/78 [==============================] - 10s 122ms/step - loss: 0.3726 - accuracy: 0.8661\n",
            "Epoch 11/50\n",
            "78/78 [==============================] - 9s 121ms/step - loss: 0.4171 - accuracy: 0.8379\n",
            "Epoch 12/50\n",
            "78/78 [==============================] - 9s 120ms/step - loss: 0.3751 - accuracy: 0.8640\n",
            "Epoch 13/50\n",
            "78/78 [==============================] - 10s 121ms/step - loss: 0.3273 - accuracy: 0.8767\n",
            "Epoch 14/50\n",
            "78/78 [==============================] - 9s 121ms/step - loss: 0.3342 - accuracy: 0.8781\n",
            "Epoch 15/50\n",
            "78/78 [==============================] - 10s 121ms/step - loss: 0.2990 - accuracy: 0.8841\n",
            "Epoch 16/50\n",
            "78/78 [==============================] - 10s 122ms/step - loss: 0.3516 - accuracy: 0.8691\n",
            "Epoch 17/50\n",
            "78/78 [==============================] - 10s 123ms/step - loss: 0.2828 - accuracy: 0.8930\n",
            "Epoch 18/50\n",
            "78/78 [==============================] - 9s 121ms/step - loss: 0.3497 - accuracy: 0.8839\n",
            "Epoch 19/50\n",
            "78/78 [==============================] - 10s 122ms/step - loss: 0.2123 - accuracy: 0.9160\n",
            "Epoch 20/50\n",
            "78/78 [==============================] - 10s 122ms/step - loss: 0.2823 - accuracy: 0.8933\n",
            "Epoch 21/50\n",
            "78/78 [==============================] - 9s 120ms/step - loss: 0.2557 - accuracy: 0.9098\n",
            "Epoch 22/50\n",
            "78/78 [==============================] - 9s 119ms/step - loss: 0.2477 - accuracy: 0.9051\n",
            "Epoch 23/50\n",
            "78/78 [==============================] - 9s 121ms/step - loss: 0.2207 - accuracy: 0.9145\n",
            "Epoch 24/50\n",
            "78/78 [==============================] - 9s 119ms/step - loss: 0.2337 - accuracy: 0.9077\n",
            "Epoch 25/50\n",
            "78/78 [==============================] - 9s 120ms/step - loss: 0.2917 - accuracy: 0.8905\n",
            "Epoch 26/50\n",
            "78/78 [==============================] - 9s 121ms/step - loss: 0.2551 - accuracy: 0.9119\n",
            "Epoch 27/50\n",
            "78/78 [==============================] - 9s 121ms/step - loss: 0.2516 - accuracy: 0.8999\n",
            "Epoch 28/50\n",
            "78/78 [==============================] - 9s 120ms/step - loss: 0.2182 - accuracy: 0.9074\n",
            "Epoch 29/50\n",
            "78/78 [==============================] - 9s 119ms/step - loss: 0.2454 - accuracy: 0.9064\n",
            "Epoch 30/50\n",
            "78/78 [==============================] - 9s 120ms/step - loss: 0.1884 - accuracy: 0.9330\n",
            "Epoch 31/50\n",
            "78/78 [==============================] - 9s 121ms/step - loss: 0.1949 - accuracy: 0.9267\n",
            "Epoch 32/50\n",
            "78/78 [==============================] - 9s 118ms/step - loss: 0.1939 - accuracy: 0.9306\n",
            "Epoch 33/50\n",
            "78/78 [==============================] - 9s 120ms/step - loss: 0.1919 - accuracy: 0.9283\n",
            "Epoch 34/50\n",
            "78/78 [==============================] - 9s 119ms/step - loss: 0.2013 - accuracy: 0.9165\n",
            "Epoch 35/50\n",
            "78/78 [==============================] - 10s 121ms/step - loss: 0.1422 - accuracy: 0.9429\n",
            "Epoch 36/50\n",
            "78/78 [==============================] - 9s 119ms/step - loss: 0.1924 - accuracy: 0.9266\n",
            "Epoch 37/50\n",
            "78/78 [==============================] - 9s 120ms/step - loss: 0.3521 - accuracy: 0.8905\n",
            "Epoch 38/50\n",
            "78/78 [==============================] - 9s 120ms/step - loss: 0.2115 - accuracy: 0.9164\n",
            "Epoch 39/50\n",
            "78/78 [==============================] - 9s 120ms/step - loss: 0.1770 - accuracy: 0.9345\n",
            "Epoch 40/50\n",
            "78/78 [==============================] - 9s 121ms/step - loss: 0.1405 - accuracy: 0.9434\n",
            "Epoch 41/50\n",
            "78/78 [==============================] - 10s 122ms/step - loss: 0.1659 - accuracy: 0.9350\n",
            "Epoch 42/50\n",
            "78/78 [==============================] - 10s 123ms/step - loss: 0.1435 - accuracy: 0.9402\n",
            "Epoch 43/50\n",
            "78/78 [==============================] - 9s 119ms/step - loss: 0.1868 - accuracy: 0.9309\n",
            "Epoch 44/50\n",
            "78/78 [==============================] - 10s 121ms/step - loss: 0.1650 - accuracy: 0.9473\n",
            "Epoch 45/50\n",
            "78/78 [==============================] - 9s 120ms/step - loss: 0.1357 - accuracy: 0.9459\n",
            "Epoch 46/50\n",
            "78/78 [==============================] - 9s 120ms/step - loss: 0.1088 - accuracy: 0.9573\n",
            "Epoch 47/50\n",
            "78/78 [==============================] - 9s 121ms/step - loss: 0.0932 - accuracy: 0.9597\n",
            "Epoch 48/50\n",
            "78/78 [==============================] - 9s 118ms/step - loss: 0.1269 - accuracy: 0.9483\n",
            "Epoch 49/50\n",
            "78/78 [==============================] - 9s 121ms/step - loss: 0.1018 - accuracy: 0.9666\n",
            "Epoch 50/50\n",
            "78/78 [==============================] - 9s 119ms/step - loss: 0.1122 - accuracy: 0.9560\n"
          ],
          "name": "stdout"
        },
        {
          "output_type": "execute_result",
          "data": {
            "text/plain": [
              "<tensorflow.python.keras.callbacks.History at 0x7fb5ff4bd350>"
            ]
          },
          "metadata": {
            "tags": []
          },
          "execution_count": 22
        }
      ]
    },
    {
      "cell_type": "markdown",
      "metadata": {
        "id": "upOy_YAwdVOq"
      },
      "source": [
        ""
      ]
    },
    {
      "cell_type": "markdown",
      "metadata": {
        "id": "QMhVgLkYdXMz"
      },
      "source": [
        "###**4.3 Post training observations**\n",
        "  * The accuracy increases alternatively, this goes well from the fact we are using mini batch gradient descent which trains the model faster, however a uniform convergence is not expected.\n",
        "  * The losses decrease over time so there is less overfitting"
      ]
    },
    {
      "cell_type": "code",
      "metadata": {
        "colab": {
          "base_uri": "https://localhost:8080/"
        },
        "id": "deSvP4P9TmV4",
        "outputId": "217ce92e-26ec-41a2-fda0-01e9e62cf08f"
      },
      "source": [
        "path_test = '/content/gdrive/MyDrive/Parap'\n",
        "predict_datagen = ImageDataGenerator(rescale=1. / 255)\n",
        "predict = predict_datagen.flow_from_directory(path_test, target_size=(227,227), batch_size = 1,class_mode='categorical')\n",
        "predictions = alex.predict(predict)\n",
        "print(len(predictions))"
      ],
      "execution_count": 26,
      "outputs": [
        {
          "output_type": "stream",
          "text": [
            "Found 40 images belonging to 1 classes.\n",
            "40\n"
          ],
          "name": "stdout"
        }
      ]
    },
    {
      "cell_type": "code",
      "metadata": {
        "colab": {
          "base_uri": "https://localhost:8080/",
          "height": 287
        },
        "id": "oL7FpJnq8WIG",
        "outputId": "539ee8b3-2b13-4499-a603-d7cce17742a2"
      },
      "source": [
        "plt.imshow(predict[5][0][0])"
      ],
      "execution_count": 28,
      "outputs": [
        {
          "output_type": "execute_result",
          "data": {
            "text/plain": [
              "<matplotlib.image.AxesImage at 0x7fb600368550>"
            ]
          },
          "metadata": {
            "tags": []
          },
          "execution_count": 28
        },
        {
          "output_type": "display_data",
          "data": {
            "image/png": "[encoded data removed]",
            "text/plain": [
              "<Figure size 432x288 with 1 Axes>"
            ]
          },
          "metadata": {
            "tags": [],
            "needs_background": "light"
          }
        }
      ]
    },
    {
      "cell_type": "code",
      "metadata": {
        "id": "vz-RSQozt3BB"
      },
      "source": [
        "def get_category(predicted_output):\n",
        "    path ='/content/gdrive/MyDrive/Train_Crop'\n",
        "    s = sorted(os.listdir(path))\n",
        "    return s[np.argmax(predicted_output)]"
      ],
      "execution_count": 29,
      "outputs": []
    },
    {
      "cell_type": "code",
      "metadata": {
        "colab": {
          "base_uri": "https://localhost:8080/"
        },
        "id": "y9-leGZGvDDn",
        "outputId": "e65ceb76-a554-44f3-c3e9-5b5255f78850"
      },
      "source": [
        "print(get_category(predictions[6]))"
      ],
      "execution_count": 30,
      "outputs": [
        {
          "output_type": "stream",
          "text": [
            "Sample008\n"
          ],
          "name": "stdout"
        }
      ]
    },
    {
      "cell_type": "markdown",
      "metadata": {
        "id": "YX0s7YIDge8p"
      },
      "source": [
        "###4.4 Saving the model\n"
      ]
    },
    {
      "cell_type": "code",
      "metadata": {
        "id": "ROBFvV98gkJx"
      },
      "source": [
        "alex.save('/content/gdrive/MyDrive/Checkpoints/partA_train_model.h5')\n",
        "alex.save_weights('/content/gdrive/MyDrive/Checkpoints/partA_train_weights.h5')"
      ],
      "execution_count": 31,
      "outputs": []
    },
    {
      "cell_type": "markdown",
      "metadata": {
        "id": "fVKatyaZfJK5"
      },
      "source": [
        "## **5.Testing** "
      ]
    },
    {
      "cell_type": "markdown",
      "metadata": {
        "id": "lMJWvAlMfWPx"
      },
      "source": [
        "###5.1 Preprocessing test set"
      ]
    },
    {
      "cell_type": "code",
      "metadata": {
        "id": "H-YKfF9vtdxf"
      },
      "source": [
        "test_path = '/to/your/path'\n",
        "dirs = os.listdir(path)\n",
        "# print(list(dirs))\n",
        "test_path2 ='/to/your/Train_Crop'\n",
        "if not(os.path.exists(path2)):\n",
        "  os.mkdir(path2)\n",
        "  for dir_name in dirs:\n",
        "  img_list = os.listdir(os.path.join(path,dir_name))\n",
        "  os.mkdir(os.path.join(path2,dir_name))\n",
        "  # print(img_list)\n",
        "  for img in img_list:\n",
        "    # print(img)\n",
        "    image = cv2.imread(os.path.join(path,dir_name,img))\n",
        "    original = image.copy()\n",
        "    gray = cv2.cvtColor(image, cv2.COLOR_BGR2GRAY)\n",
        "    thresh = cv2.threshold(gray, 0, 255, cv2.THRESH_BINARY_INV + cv2.THRESH_OTSU)[1]\n",
        "\n",
        "    cnts = cv2.findContours(thresh, cv2.RETR_EXTERNAL, cv2.CHAIN_APPROX_SIMPLE)\n",
        "    cnts = cnts[0] if len(cnts) == 2 else cnts[1]\n",
        "    x,y,w,h = cv2.boundingRect(cnts[0])\n",
        "    cv2.rectangle(image, (x, y), (x + w, y + h), (36,255,12), 2)\n",
        "    ROI = original[y:y+h, x:x+w]\n",
        "    cv2.imwrite(os.path.join(path2,dir_name,img), ROI)\n",
        "    # cv2_imshow(image)"
      ],
      "execution_count": null,
      "outputs": []
    },
    {
      "cell_type": "markdown",
      "metadata": {
        "id": "YfkRpyC6f6kS"
      },
      "source": [
        "###5.2 Testing"
      ]
    },
    {
      "cell_type": "code",
      "metadata": {
        "id": "Vf3SFpIrf8Qa"
      },
      "source": [
        "train_datagen = ImageDataGenerator(rescale=1. / 255)\n",
        "train = train_datagen.flow_from_directory(path2, target_size=(227,227), class_mode='categorical')"
      ],
      "execution_count": null,
      "outputs": []
    },
    {
      "cell_type": "code",
      "metadata": {
        "id": "O_AbHEVQgP3q"
      },
      "source": [
        "alex.evaluate(train)"
      ],
      "execution_count": null,
      "outputs": []
    }
  ]
}